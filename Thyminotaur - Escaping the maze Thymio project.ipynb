{
 "cells": [
  {
   "cell_type": "markdown",
   "id": "42a39a58",
   "metadata": {},
   "source": [
    "<h1><center> Thyminotaur - εσκαπινγ θε μαζε (Εscaping the maze) </center></h1>"
   ]
  },
  {
   "cell_type": "markdown",
   "id": "05b34870",
   "metadata": {},
   "source": [
    "<img src=\"images/Thymio_labyrinth.png\" style=\"width: 600px;\">"
   ]
  },
  {
   "cell_type": "markdown",
   "id": "eb2aea18",
   "metadata": {},
   "source": [
    "## Introduction\n",
    "\n",
    "<p style='text-align: justify;'> \n",
    "    This project is inspired form the old legend of <i>Theseus and the Labyrinth</i>. It all started during the SHS course <i>Myths of the ancient Mediterranean Sea</i> with the following question:</p>\n",
    "\n",
    "**What if the Minotaur, trapped forever in the huge labyrinth built on Creta island, could find his way out and live his best life under the greek sun?**\n",
    "\n",
    "The main goal of this project is therefore to help the little Thyminotaur to find his way out of the maze! To help him with his quest of freedom, the 5 following tools are implemented in the project.  \n",
    "\n",
    "1. Vision: Placed well above the maze, a camera detects the walls, maze's exits and the position of the robot. The optimal path is then computed with these vision information.\n",
    "2. Motion Control: Once the path is computed, the information is transmitted to the Thymio which starts moving.\n",
    "3. Global Navigation: With the help of the camera, the global path to the nearest exit of the labyrinth is compiled and send as the route to follow for the Thymio.\n",
    "4. Local Navigation: With the help of the 5 front infrared sensors, the Thymio can avoid unexpected obstacles along the way, using inputs from a 5-neural network, each one associated to one sensor.\n",
    "5. Filtering: TO BE COMPLETED.\n",
    "\n",
    "This mobile robotic project is presented to you by : \n",
    "\n",
    "- Stephen Monnet\n",
    "- David Rüegg\n",
    "- Julien Burkhard\n",
    "- Sylvain Jacquart\n",
    "\n",
    "Submission date: Sunday December 12th, 2021\n",
    "\n",
    "The main folder of the proect can be found following `This link`."
   ]
  },
  {
   "cell_type": "markdown",
   "id": "d4332e92",
   "metadata": {},
   "source": [
    "ToC"
   ]
  },
  {
   "cell_type": "markdown",
   "id": "e142ac74",
   "metadata": {},
   "source": [
    "## Part 1 : Project explanations, hardware & choices\n",
    "\n",
    "### Project explanation in details\n",
    "\n",
    "<img src=\"images/GlobalExplenation.PNG\" style=\"width: 600px;\">\n",
    "\n",
    "1. The Thymio is placed on a random cell of the labyrinth. The camera detects the *ArUco Marker* on the Thymio, compilling its position and orientation. \n",
    "\n",
    "\n",
    "2. The labyrinth is drawn with 2 exits; using the Dijkstra’s algorithm, the Thymio follows the path to the nearest exit of the maze (green path on the image).\n",
    "\n",
    "\n",
    "3. As the robot almost reaches the exit, a mysterious old greek god closes the wall in front of the poor Thyminotaur! Using the global vision, a new path is computed and the robot turns to follow this new route (orange path on the image).\n",
    "\n",
    "\n",
    "4. During the path following, some unexpected obstacles will block the road to our adventurous Thyminotaur. Thanks to his local avoidance abilities (based on his proximity sensors/neural network architecture combination), no unexpected event will stand between him and the exit. He bypasses every obstacles until the end of his journey.\n",
    "\n",
    "\n",
    "5. The Thymio stops at the exit of the Labyrinth, satisfied with his regained freedom.\n",
    "\n",
    "### Hardware\n",
    "<p style='text-align: justify;'>\n",
    "The labyrinth covers a 4x5 cells unit and is printed on a A0 white paper (shout-out to the PolyRepro for their fast delivery). To ensure a good camera tracking, the Thymio carries an <i> ArUco Marker</i>, which allows to detect the position and orientation of the robot. The marker is stick to <i>Lego bricks</i> and mounted directly on top of the Thymio, as you can see on the picture below.</p>\n",
    "\n",
    "<img src=\"images/combined_pic_thymio_lab.PNG\" style=\"width: 600px;\">\n",
    "\n",
    "\n",
    "### Relevant choices made for this project"
   ]
  },
  {
   "cell_type": "markdown",
   "id": "c68597e1",
   "metadata": {},
   "source": [
    "## Part 2 : Global vision & camera functions (Julien)"
   ]
  },
  {
   "cell_type": "markdown",
   "id": "6335f748",
   "metadata": {},
   "source": [
    "## Part 3 : Global path definition (David)"
   ]
  },
  {
   "cell_type": "markdown",
   "id": "d997e9dc",
   "metadata": {},
   "source": [
    "## Part 4 : Global path following (Stephen)"
   ]
  },
  {
   "cell_type": "markdown",
   "id": "b1a67046",
   "metadata": {},
   "source": [
    "## Part 5 : Local obstacles avoidance (Sylvain)"
   ]
  },
  {
   "cell_type": "code",
   "execution_count": null,
   "id": "c4d943fe",
   "metadata": {},
   "outputs": [],
   "source": []
  }
 ],
 "metadata": {
  "kernelspec": {
   "display_name": "Python 3",
   "language": "python",
   "name": "python3"
  },
  "language_info": {
   "codemirror_mode": {
    "name": "ipython",
    "version": 3
   },
   "file_extension": ".py",
   "mimetype": "text/x-python",
   "name": "python",
   "nbconvert_exporter": "python",
   "pygments_lexer": "ipython3",
   "version": "3.8.8"
  }
 },
 "nbformat": 4,
 "nbformat_minor": 5
}
