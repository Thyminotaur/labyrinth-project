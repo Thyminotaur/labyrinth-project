{
 "cells": [
  {
   "cell_type": "markdown",
   "metadata": {},
   "source": [
    "# Local obstacle avoidance - main notebook"
   ]
  },
  {
   "cell_type": "markdown",
   "metadata": {},
   "source": [
    "### Eventual updates"
   ]
  },
  {
   "cell_type": "code",
   "execution_count": 1,
   "metadata": {
    "ExecuteTime": {
     "end_time": "2021-09-18T19:10:08.937798Z",
     "start_time": "2021-09-18T19:10:06.445255Z"
    },
    "scrolled": true
   },
   "outputs": [
    {
     "name": "stdout",
     "output_type": "stream",
     "text": [
      "Requirement already satisfied: tdmclient in c:\\users\\sjacq\\anaconda3\\lib\\site-packages (0.1.11)\n",
      "Requirement already satisfied: zeroconf in c:\\users\\sjacq\\anaconda3\\lib\\site-packages (from tdmclient) (0.36.7)\n",
      "Requirement already satisfied: ifaddr>=0.1.7 in c:\\users\\sjacq\\anaconda3\\lib\\site-packages (from zeroconf->tdmclient) (0.1.7)\n"
     ]
    }
   ],
   "source": [
    "#Install the tdmclient package:\n",
    "!pip install tdmclient"
   ]
  },
  {
   "cell_type": "markdown",
   "metadata": {},
   "source": [
    "### Thymio status"
   ]
  },
  {
   "cell_type": "code",
   "execution_count": 6,
   "metadata": {
    "ExecuteTime": {
     "end_time": "2021-09-18T19:10:15.665449Z",
     "start_time": "2021-09-18T19:10:10.259724Z"
    }
   },
   "outputs": [
    {
     "name": "stdout",
     "output_type": "stream",
     "text": [
      "id:       88bd7bc6-475f-45ab-8cf9-3d9f0723f7f4\n",
      "group id: a93be067-7819-47a6-bd1c-0038a369250e\n",
      "name:     <¦o_O¦>\n",
      "status:   2 (available)\n",
      "cap:      3\n",
      "firmware: 14\n",
      "\n"
     ]
    }
   ],
   "source": [
    "#The exclamation point (!) allow to execute a terminal command in the notebook:\n",
    "!py -m tdmclient.tools.list"
   ]
  },
  {
   "cell_type": "markdown",
   "metadata": {},
   "source": [
    "# Executing a program on the Thymio"
   ]
  },
  {
   "cell_type": "markdown",
   "metadata": {},
   "source": [
    "## Using a python file with tdmclient.tools.run\n",
    "\n",
    "To avoid having to learn the Aseba language, it is now possible to program the robot with Python files. Note however that only a subset of Python functionalities can be used"
   ]
  },
  {
   "cell_type": "markdown",
   "metadata": {
    "ExecuteTime": {
     "end_time": "2021-08-29T10:21:38.354328Z",
     "start_time": "2021-08-29T10:21:38.339955Z"
    }
   },
   "source": [
    "#### Test with move python - Start"
   ]
  },
  {
   "cell_type": "code",
   "execution_count": 4,
   "metadata": {},
   "outputs": [],
   "source": [
    "!python src/move.py"
   ]
  },
  {
   "cell_type": "markdown",
   "metadata": {},
   "source": [
    "#### Local obstacle avoidance python - Start"
   ]
  },
  {
   "cell_type": "code",
   "execution_count": 8,
   "metadata": {},
   "outputs": [
    {
     "name": "stderr",
     "output_type": "stream",
     "text": [
      "Traceback (most recent call last):\n",
      "  File \"src/obstacle_avoid.py\", line 90, in <module>\n",
      "    client.run_async_program(prog)\n",
      "  File \"C:\\Users\\sjacq\\anaconda3\\lib\\site-packages\\tdmclient\\clientasync.py\", line 153, in run_async_program\n",
      "    co.send(None)\n",
      "  File \"src/obstacle_avoid.py\", line 86, in prog\n",
      "    await client.sleep(10)\n",
      "  File \"C:\\Users\\sjacq\\anaconda3\\lib\\site-packages\\tdmclient\\clientasync.py\", line 42, in sleep\n",
      "    self.process_waiting_messages()\n",
      "  File \"C:\\Users\\sjacq\\anaconda3\\lib\\site-packages\\tdmclient\\client.py\", line 130, in process_waiting_messages\n",
      "    self.process_message(msg)\n",
      "  File \"C:\\Users\\sjacq\\anaconda3\\lib\\site-packages\\tdmclient\\thymio.py\", line 717, in process_message\n",
      "    node.notify_variables_changed(node, variables)\n",
      "  File \"C:\\Users\\sjacq\\anaconda3\\lib\\site-packages\\tdmclient\\thymio.py\", line 70, in notify_variables_changed\n",
      "    f(node, variable_dict)\n",
      "  File \"src/obstacle_avoid.py\", line 33, in obstacle_avoidance\n",
      "    obst_0 = prox.horizontal[0]\n",
      "AttributeError: 'list' object has no attribute 'horizontal'\n"
     ]
    }
   ],
   "source": [
    "!python src/obstacle_avoid.py"
   ]
  },
  {
   "cell_type": "code",
   "execution_count": 54,
   "metadata": {},
   "outputs": [
    {
     "name": "stderr",
     "output_type": "stream",
     "text": [
      "Traceback (most recent call last):\n",
      "  File \"C:\\Users\\sjacq\\anaconda3\\lib\\runpy.py\", line 194, in _run_module_as_main\n",
      "    return _run_code(code, main_globals, None,\n",
      "  File \"C:\\Users\\sjacq\\anaconda3\\lib\\runpy.py\", line 87, in _run_code\n",
      "    exec(code, run_globals)\n",
      "  File \"C:\\Users\\sjacq\\anaconda3\\lib\\site-packages\\tdmclient\\tools\\run.py\", line 241, in <module>\n",
      "    client.run_async_program(prog)\n",
      "  File \"C:\\Users\\sjacq\\anaconda3\\lib\\site-packages\\tdmclient\\clientasync.py\", line 153, in run_async_program\n",
      "    co.send(None)\n",
      "  File \"C:\\Users\\sjacq\\anaconda3\\lib\\site-packages\\tdmclient\\tools\\run.py\", line 201, in prog\n",
      "    with await client.lock(node_id=robot_id, node_name=robot_name) as node:\n",
      "  File \"C:\\Users\\sjacq\\anaconda3\\lib\\site-packages\\tdmclient\\clientasync.py\", line 108, in lock\n",
      "    raise Exception(\"Node lock error\")\n",
      "Exception: Node lock error\n"
     ]
    }
   ],
   "source": [
    "!python -m tdmclient.tools.run --stop"
   ]
  },
  {
   "cell_type": "markdown",
   "metadata": {},
   "source": [
    "#### Braitenberg python - Start"
   ]
  },
  {
   "cell_type": "code",
   "execution_count": 3,
   "metadata": {},
   "outputs": [
    {
     "name": "stderr",
     "output_type": "stream",
     "text": [
      "Traceback (most recent call last):\n",
      "  File \"C:\\Users\\sjacq\\AppData\\Local\\Programs\\Python\\Python39\\lib\\runpy.py\", line 197, in _run_module_as_main\n",
      "    return _run_code(code, main_globals, None,\n",
      "  File \"C:\\Users\\sjacq\\AppData\\Local\\Programs\\Python\\Python39\\lib\\runpy.py\", line 87, in _run_code\n",
      "    exec(code, run_globals)\n",
      "  File \"C:\\Users\\sjacq\\AppData\\Local\\Programs\\Python\\Python39\\lib\\site-packages\\tdmclient\\tools\\run.py\", line 174, in <module>\n",
      "    transpiler.transpile()\n",
      "  File \"C:\\Users\\sjacq\\AppData\\Local\\Programs\\Python\\Python39\\lib\\site-packages\\tdmclient\\atranspiler.py\", line 1126, in transpile\n",
      "    self.output_src = self.compile_node_array(top_code, context_top)\n",
      "  File \"C:\\Users\\sjacq\\AppData\\Local\\Programs\\Python\\Python39\\lib\\site-packages\\tdmclient\\atranspiler.py\", line 1103, in compile_node_array\n",
      "    code = \"\".join([\n",
      "  File \"C:\\Users\\sjacq\\AppData\\Local\\Programs\\Python\\Python39\\lib\\site-packages\\tdmclient\\atranspiler.py\", line 1104, in <listcomp>\n",
      "    self.compile_node(node, context)\n",
      "  File \"C:\\Users\\sjacq\\AppData\\Local\\Programs\\Python\\Python39\\lib\\site-packages\\tdmclient\\atranspiler.py\", line 1041, in compile_node\n",
      "    raise TranspilerError(f\"unknown module '{module_name}'\", node)\n",
      "tdmclient.atranspiler.TranspilerError: unknown module 'controller' (line 10)\n"
     ]
    }
   ],
   "source": [
    "!py -m tdmclient.tools.run --scratchpad src/Braitenberg-based_obstacle-avoiding_robot_controller.py"
   ]
  },
  {
   "cell_type": "markdown",
   "metadata": {},
   "source": [
    "# ---"
   ]
  },
  {
   "cell_type": "code",
   "execution_count": 25,
   "metadata": {
    "ExecuteTime": {
     "end_time": "2021-09-07T09:40:01.077291Z",
     "start_time": "2021-09-07T09:40:00.961273Z"
    }
   },
   "outputs": [
    {
     "ename": "NameError",
     "evalue": "name 'aw' is not defined",
     "output_type": "error",
     "traceback": [
      "\u001b[1;31m---------------------------------------------------------------------------\u001b[0m",
      "\u001b[1;31mNameError\u001b[0m                                 Traceback (most recent call last)",
      "\u001b[1;32m<ipython-input-25-e245b63c225e>\u001b[0m in \u001b[0;36m<module>\u001b[1;34m\u001b[0m\n\u001b[1;32m----> 1\u001b[1;33m \u001b[0maw\u001b[0m\u001b[1;33m(\u001b[0m\u001b[0mnode\u001b[0m\u001b[1;33m.\u001b[0m\u001b[0mlock\u001b[0m\u001b[1;33m(\u001b[0m\u001b[1;33m)\u001b[0m\u001b[1;33m)\u001b[0m\u001b[1;33m\u001b[0m\u001b[1;33m\u001b[0m\u001b[0m\n\u001b[0m",
      "\u001b[1;31mNameError\u001b[0m: name 'aw' is not defined"
     ]
    }
   ],
   "source": [
    "aw(node.lock())"
   ]
  },
  {
   "cell_type": "code",
   "execution_count": 7,
   "metadata": {
    "ExecuteTime": {
     "end_time": "2021-09-07T09:40:03.411063Z",
     "start_time": "2021-09-07T09:40:03.295354Z"
    }
   },
   "outputs": [
    {
     "ename": "NameError",
     "evalue": "name 'aw' is not defined",
     "output_type": "error",
     "traceback": [
      "\u001b[1;31m---------------------------------------------------------------------------\u001b[0m",
      "\u001b[1;31mNameError\u001b[0m                                 Traceback (most recent call last)",
      "\u001b[1;32m<ipython-input-7-52aaec34e554>\u001b[0m in \u001b[0;36m<module>\u001b[1;34m\u001b[0m\n\u001b[0;32m      1\u001b[0m \u001b[1;31m#Run the program that is already compiled:\u001b[0m\u001b[1;33m\u001b[0m\u001b[1;33m\u001b[0m\u001b[1;33m\u001b[0m\u001b[0m\n\u001b[1;32m----> 2\u001b[1;33m \u001b[0maw\u001b[0m\u001b[1;33m(\u001b[0m\u001b[0mnode\u001b[0m\u001b[1;33m.\u001b[0m\u001b[0mrun\u001b[0m\u001b[1;33m(\u001b[0m\u001b[1;33m)\u001b[0m\u001b[1;33m)\u001b[0m\u001b[1;33m\u001b[0m\u001b[1;33m\u001b[0m\u001b[0m\n\u001b[0m",
      "\u001b[1;31mNameError\u001b[0m: name 'aw' is not defined"
     ]
    }
   ],
   "source": [
    "#Run the program that is already compiled:\n",
    "aw(node.run())"
   ]
  },
  {
   "cell_type": "code",
   "execution_count": 28,
   "metadata": {
    "ExecuteTime": {
     "end_time": "2021-09-07T09:40:03.879973Z",
     "start_time": "2021-09-07T09:40:03.763862Z"
    }
   },
   "outputs": [],
   "source": [
    "aw(node.stop())"
   ]
  },
  {
   "cell_type": "code",
   "execution_count": 42,
   "metadata": {
    "ExecuteTime": {
     "end_time": "2021-09-07T09:40:07.485014Z",
     "start_time": "2021-09-07T09:40:07.337074Z"
    }
   },
   "outputs": [
    {
     "ename": "NameError",
     "evalue": "name 'aw' is not defined",
     "output_type": "error",
     "traceback": [
      "\u001b[1;31m---------------------------------------------------------------------------\u001b[0m",
      "\u001b[1;31mNameError\u001b[0m                                 Traceback (most recent call last)",
      "\u001b[1;32m<ipython-input-42-9ad3bb3f2ab3>\u001b[0m in \u001b[0;36m<module>\u001b[1;34m\u001b[0m\n\u001b[0;32m      1\u001b[0m \u001b[1;31m#Now unlock the robot:\u001b[0m\u001b[1;33m\u001b[0m\u001b[1;33m\u001b[0m\u001b[1;33m\u001b[0m\u001b[0m\n\u001b[1;32m----> 2\u001b[1;33m \u001b[0maw\u001b[0m\u001b[1;33m(\u001b[0m\u001b[0mnode\u001b[0m\u001b[1;33m.\u001b[0m\u001b[0munlock\u001b[0m\u001b[1;33m(\u001b[0m\u001b[1;33m)\u001b[0m\u001b[1;33m)\u001b[0m\u001b[1;33m\u001b[0m\u001b[1;33m\u001b[0m\u001b[0m\n\u001b[0m",
      "\u001b[1;31mNameError\u001b[0m: name 'aw' is not defined"
     ]
    }
   ],
   "source": [
    "#Now unlock the robot:\n",
    "aw(node.unlock())"
   ]
  },
  {
   "cell_type": "markdown",
   "metadata": {},
   "source": [
    "# Programing the Thymio directly from Jupyter Notebooks"
   ]
  },
  {
   "cell_type": "markdown",
   "metadata": {
    "ExecuteTime": {
     "end_time": "2021-09-06T08:55:28.442942Z",
     "start_time": "2021-09-06T08:55:28.405120Z"
    }
   },
   "source": [
    "In order to use tdmclient classes and methods in a Juypter notebook, the simpler way is to use the following code:"
   ]
  },
  {
   "cell_type": "code",
   "execution_count": 5,
   "metadata": {
    "ExecuteTime": {
     "end_time": "2021-09-06T09:26:04.051283Z",
     "start_time": "2021-09-06T09:26:01.547967Z"
    }
   },
   "outputs": [
    {
     "data": {
      "text/plain": [
       "Node 88bd7bc6-475f-45ab-8cf9-3d9f0723f7f4"
      ]
     },
     "execution_count": 5,
     "metadata": {},
     "output_type": "execute_result"
    }
   ],
   "source": [
    "from tdmclient import ClientAsync\n",
    "client = ClientAsync()\n",
    "node = await client.wait_for_node()\n",
    "await node.lock()"
   ]
  },
  {
   "cell_type": "markdown",
   "metadata": {},
   "source": [
    "To avoid the `Node lock error`, you should probably restart the kernel of the notebook (circular arrow shortcut), it is a safe way to ensure that your Thymio is not locked by any client. If there is any code remaining on the Thymio preventing the execution of the following cells, please turn off/on the robot."
   ]
  },
  {
   "cell_type": "code",
   "execution_count": 3,
   "metadata": {
    "ExecuteTime": {
     "end_time": "2021-09-07T09:41:51.232804Z",
     "start_time": "2021-09-07T09:41:48.594807Z"
    },
    "scrolled": false
   },
   "outputs": [],
   "source": [
    "import tdmclient.notebook\n",
    "await tdmclient.notebook.start()"
   ]
  },
  {
   "cell_type": "markdown",
   "metadata": {},
   "source": [
    "Then the variables which match the robot's are synchronized in both directions, you can simply set values:"
   ]
  },
  {
   "cell_type": "code",
   "execution_count": 5,
   "metadata": {
    "ExecuteTime": {
     "end_time": "2021-09-07T09:41:52.496208Z",
     "start_time": "2021-09-07T09:41:52.465082Z"
    }
   },
   "outputs": [],
   "source": [
    "motor_left_target = 50"
   ]
  },
  {
   "cell_type": "code",
   "execution_count": 6,
   "metadata": {
    "ExecuteTime": {
     "end_time": "2021-09-07T09:41:53.081221Z",
     "start_time": "2021-09-07T09:41:53.065156Z"
    }
   },
   "outputs": [],
   "source": [
    "motor_left_target = 0"
   ]
  },
  {
   "cell_type": "code",
   "execution_count": 8,
   "metadata": {
    "ExecuteTime": {
     "end_time": "2021-09-07T09:41:53.728156Z",
     "start_time": "2021-09-07T09:41:53.712329Z"
    }
   },
   "outputs": [],
   "source": [
    "# cyan\n",
    "leds_top = [0, 16, 32]"
   ]
  },
  {
   "cell_type": "markdown",
   "metadata": {
    "ExecuteTime": {
     "end_time": "2021-09-06T09:22:44.390472Z",
     "start_time": "2021-09-06T09:22:44.375276Z"
    }
   },
   "source": [
    "Note that in python, dots *.* are replaced by underscores *_*: \"motor.left.target\" in Aseba become \"motor_left_target\" in python.\n",
    "\n",
    "And to get sensor values:"
   ]
  },
  {
   "cell_type": "code",
   "execution_count": 10,
   "metadata": {
    "ExecuteTime": {
     "end_time": "2021-09-07T09:41:54.852372Z",
     "start_time": "2021-09-07T09:41:54.820944Z"
    }
   },
   "outputs": [
    {
     "data": {
      "text/plain": [
       "[3159, 4403, 4455, 4385, 3848, 0, 0]"
      ]
     },
     "execution_count": 10,
     "metadata": {},
     "output_type": "execute_result"
    }
   ],
   "source": [
    "prox_horizontal"
   ]
  },
  {
   "cell_type": "markdown",
   "metadata": {},
   "source": [
    "Now, we will use a quite **different approach**. Previously, you were executing code in python on your computer, in order to control the robot. Now, we are going to code in python, and then this code will be *transpiled* in Aseba, and then loaded directly on the robot."
   ]
  },
  {
   "cell_type": "code",
   "execution_count": 11,
   "metadata": {
    "ExecuteTime": {
     "end_time": "2021-09-07T09:41:55.885397Z",
     "start_time": "2021-09-07T09:41:55.870153Z"
    }
   },
   "outputs": [],
   "source": [
    "on = False\n",
    "timer_period[0] = 500\n",
    "@onevent\n",
    "def timer0():\n",
    "    global on, leds_top\n",
    "    on = not on\n",
    "    if on:\n",
    "        leds_top = [32, 32, 0]\n",
    "    else:\n",
    "        leds_top = [0, 0, 0]"
   ]
  },
  {
   "cell_type": "code",
   "execution_count": 12,
   "metadata": {
    "ExecuteTime": {
     "end_time": "2021-09-07T09:41:58.205733Z",
     "start_time": "2021-09-07T09:41:57.989733Z"
    }
   },
   "outputs": [],
   "source": [
    "run()"
   ]
  },
  {
   "cell_type": "code",
   "execution_count": 20,
   "metadata": {
    "ExecuteTime": {
     "end_time": "2021-09-07T09:41:58.522586Z",
     "start_time": "2021-09-07T09:41:58.405762Z"
    }
   },
   "outputs": [],
   "source": [
    "stop()"
   ]
  }
 ],
 "metadata": {
  "hide_input": false,
  "kernelspec": {
   "display_name": "Python 3",
   "language": "python",
   "name": "python3"
  },
  "language_info": {
   "codemirror_mode": {
    "name": "ipython",
    "version": 3
   },
   "file_extension": ".py",
   "mimetype": "text/x-python",
   "name": "python",
   "nbconvert_exporter": "python",
   "pygments_lexer": "ipython3",
   "version": "3.8.8"
  },
  "toc": {
   "base_numbering": 1,
   "nav_menu": {},
   "number_sections": true,
   "sideBar": true,
   "skip_h1_title": false,
   "title_cell": "Table of Contents",
   "title_sidebar": "Contents",
   "toc_cell": false,
   "toc_position": {},
   "toc_section_display": true,
   "toc_window_display": false
  }
 },
 "nbformat": 4,
 "nbformat_minor": 4
}
